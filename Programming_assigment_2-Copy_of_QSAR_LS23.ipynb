{
 "cells": [
  {
   "cell_type": "markdown",
   "metadata": {},
   "source": [
    "# Programming assigment 2\n",
    "- Tento notebook je kopie notebooku pro QSAR\n",
    "- Moje je jen bunka [53] (a md bunky nad a pod)"
   ]
  },
  {
   "cell_type": "code",
   "execution_count": 31,
   "metadata": {
    "id": "cAvQ6DQVRbqf"
   },
   "outputs": [],
   "source": [
    "import numpy as np\n",
    "import pandas as pd\n",
    "import matplotlib.pyplot as plt\n",
    "import torch\n",
    "import torch.nn as nn\n",
    "from sklearn.preprocessing import StandardScaler\n",
    "from sklearn.model_selection import train_test_split\n",
    "from sklearn.feature_selection import VarianceThreshold"
   ]
  },
  {
   "cell_type": "code",
   "execution_count": 32,
   "metadata": {
    "id": "cyx9KWjgmhoZ"
   },
   "outputs": [],
   "source": [
    "from rdkit import Chem, DataStructs\n",
    "from rdkit.Chem import PandasTools, AllChem"
   ]
  },
  {
   "cell_type": "code",
   "execution_count": 33,
   "metadata": {
    "colab": {
     "base_uri": "https://localhost:8080/",
     "height": 353
    },
    "id": "6ySOdSzqnW93",
    "outputId": "bd574311-2407-4f1f-d092-85bf0200e7e0"
   },
   "outputs": [
    {
     "data": {
      "text/html": [
       "<div>\n",
       "<style scoped>\n",
       "    .dataframe tbody tr th:only-of-type {\n",
       "        vertical-align: middle;\n",
       "    }\n",
       "\n",
       "    .dataframe tbody tr th {\n",
       "        vertical-align: top;\n",
       "    }\n",
       "\n",
       "    .dataframe thead th {\n",
       "        text-align: right;\n",
       "    }\n",
       "</style>\n",
       "<table border=\"1\" class=\"dataframe\">\n",
       "  <thead>\n",
       "    <tr style=\"text-align: right;\">\n",
       "      <th></th>\n",
       "      <th>Ambit_InchiKey</th>\n",
       "      <th>Original_Entry_ID</th>\n",
       "      <th>Entrez_ID</th>\n",
       "      <th>Activity_Flag</th>\n",
       "      <th>pXC50</th>\n",
       "      <th>DB</th>\n",
       "      <th>Original_Assay_ID</th>\n",
       "      <th>Tax_ID</th>\n",
       "      <th>Gene_Symbol</th>\n",
       "      <th>Ortholog_Group</th>\n",
       "      <th>SMILES</th>\n",
       "    </tr>\n",
       "  </thead>\n",
       "  <tbody>\n",
       "    <tr>\n",
       "      <th>0</th>\n",
       "      <td>CWYBNSVSYKQGJB-UHFFFAOYNA-N</td>\n",
       "      <td>71541095</td>\n",
       "      <td>6532</td>\n",
       "      <td>A</td>\n",
       "      <td>6.85387</td>\n",
       "      <td>pubchem</td>\n",
       "      <td>727355</td>\n",
       "      <td>9606</td>\n",
       "      <td>SLC6A4</td>\n",
       "      <td>4061</td>\n",
       "      <td>ClC=1C=C(C2CCCCNC2)C=CC1Cl</td>\n",
       "    </tr>\n",
       "    <tr>\n",
       "      <th>1</th>\n",
       "      <td>CTETYYAZBPJBHE-UHFFFAOYNA-N</td>\n",
       "      <td>CHEMBL1289</td>\n",
       "      <td>6532</td>\n",
       "      <td>A</td>\n",
       "      <td>6.37000</td>\n",
       "      <td>chembl20</td>\n",
       "      <td>774720</td>\n",
       "      <td>9606</td>\n",
       "      <td>SLC6A4</td>\n",
       "      <td>4061</td>\n",
       "      <td>C(#CI)COC=1C=C(Cl)C(=CC1Cl)Cl</td>\n",
       "    </tr>\n",
       "    <tr>\n",
       "      <th>2</th>\n",
       "      <td>FQDRMHHCWZAXJM-UHFFFAOYNA-N</td>\n",
       "      <td>125558</td>\n",
       "      <td>25553</td>\n",
       "      <td>A</td>\n",
       "      <td>9.98297</td>\n",
       "      <td>pubchem</td>\n",
       "      <td>205028</td>\n",
       "      <td>10116</td>\n",
       "      <td>SLC6A4</td>\n",
       "      <td>4061</td>\n",
       "      <td>O1C=2C=C3CC(N)CC3=CC2OC1</td>\n",
       "    </tr>\n",
       "    <tr>\n",
       "      <th>3</th>\n",
       "      <td>QRAWNNQNLQPNIZ-UHFFFAOYNA-N</td>\n",
       "      <td>CHEMBL205229</td>\n",
       "      <td>6532</td>\n",
       "      <td>A</td>\n",
       "      <td>7.54000</td>\n",
       "      <td>chembl20</td>\n",
       "      <td>950695</td>\n",
       "      <td>9606</td>\n",
       "      <td>SLC6A4</td>\n",
       "      <td>4061</td>\n",
       "      <td>N1C=C(CCN)C2=C1C(=CC=C2)F</td>\n",
       "    </tr>\n",
       "    <tr>\n",
       "      <th>4</th>\n",
       "      <td>HCFHWXDIZOAUTQ-UHFFFAOYNA-N</td>\n",
       "      <td>CHEMBL6376</td>\n",
       "      <td>25553</td>\n",
       "      <td>A</td>\n",
       "      <td>6.11000</td>\n",
       "      <td>chembl20</td>\n",
       "      <td>201505</td>\n",
       "      <td>10116</td>\n",
       "      <td>SLC6A4</td>\n",
       "      <td>4061</td>\n",
       "      <td>C1(=CC=2OCOC2C=C1C)CC(N)C</td>\n",
       "    </tr>\n",
       "  </tbody>\n",
       "</table>\n",
       "</div>"
      ],
      "text/plain": [
       "                Ambit_InchiKey Original_Entry_ID  Entrez_ID Activity_Flag  \\\n",
       "0  CWYBNSVSYKQGJB-UHFFFAOYNA-N          71541095       6532             A   \n",
       "1  CTETYYAZBPJBHE-UHFFFAOYNA-N        CHEMBL1289       6532             A   \n",
       "2  FQDRMHHCWZAXJM-UHFFFAOYNA-N            125558      25553             A   \n",
       "3  QRAWNNQNLQPNIZ-UHFFFAOYNA-N      CHEMBL205229       6532             A   \n",
       "4  HCFHWXDIZOAUTQ-UHFFFAOYNA-N        CHEMBL6376      25553             A   \n",
       "\n",
       "     pXC50        DB  Original_Assay_ID  Tax_ID Gene_Symbol  Ortholog_Group  \\\n",
       "0  6.85387   pubchem             727355    9606      SLC6A4            4061   \n",
       "1  6.37000  chembl20             774720    9606      SLC6A4            4061   \n",
       "2  9.98297   pubchem             205028   10116      SLC6A4            4061   \n",
       "3  7.54000  chembl20             950695    9606      SLC6A4            4061   \n",
       "4  6.11000  chembl20             201505   10116      SLC6A4            4061   \n",
       "\n",
       "                          SMILES  \n",
       "0     ClC=1C=C(C2CCCCNC2)C=CC1Cl  \n",
       "1  C(#CI)COC=1C=C(Cl)C(=CC1Cl)Cl  \n",
       "2       O1C=2C=C3CC(N)CC3=CC2OC1  \n",
       "3      N1C=C(CCN)C2=C1C(=CC=C2)F  \n",
       "4      C1(=CC=2OCOC2C=C1C)CC(N)C  "
      ]
     },
     "execution_count": 33,
     "metadata": {},
     "output_type": "execute_result"
    }
   ],
   "source": [
    "data = pd.read_csv(\"dataset.csv\")\n",
    "data.head(5)"
   ]
  },
  {
   "cell_type": "code",
   "execution_count": 34,
   "metadata": {
    "colab": {
     "base_uri": "https://localhost:8080/"
    },
    "id": "LAODhkSonjmw",
    "outputId": "ac5919a8-2a76-4bb3-d9f1-e6a830b3830b"
   },
   "outputs": [
    {
     "name": "stdout",
     "output_type": "stream",
     "text": [
      "/home/monika/fbmi/chemoinformatika\n"
     ]
    }
   ],
   "source": [
    "!pwd"
   ]
  },
  {
   "cell_type": "code",
   "execution_count": 35,
   "metadata": {
    "id": "i5fON5PSnmM3"
   },
   "outputs": [],
   "source": [
    "PandasTools.AddMoleculeColumnToFrame(data,'SMILES','Molecule')"
   ]
  },
  {
   "cell_type": "code",
   "execution_count": 36,
   "metadata": {
    "colab": {
     "base_uri": "https://localhost:8080/",
     "height": 1000
    },
    "id": "76uoiLP3n1ZS",
    "outputId": "fb59442b-f017-40b7-e4a1-e389c3548a18"
   },
   "outputs": [
    {
     "data": {
      "text/html": [
       "<div>\n",
       "<style scoped>\n",
       "    .dataframe tbody tr th:only-of-type {\n",
       "        vertical-align: middle;\n",
       "    }\n",
       "\n",
       "    .dataframe tbody tr th {\n",
       "        vertical-align: top;\n",
       "    }\n",
       "\n",
       "    .dataframe thead th {\n",
       "        text-align: right;\n",
       "    }\n",
       "</style>\n",
       "<table border=\"1\" class=\"dataframe\">\n",
       "  <thead>\n",
       "    <tr style=\"text-align: right;\">\n",
       "      <th></th>\n",
       "      <th>Ambit_InchiKey</th>\n",
       "      <th>Original_Entry_ID</th>\n",
       "      <th>Entrez_ID</th>\n",
       "      <th>Activity_Flag</th>\n",
       "      <th>pXC50</th>\n",
       "      <th>DB</th>\n",
       "      <th>Original_Assay_ID</th>\n",
       "      <th>Tax_ID</th>\n",
       "      <th>Gene_Symbol</th>\n",
       "      <th>Ortholog_Group</th>\n",
       "      <th>SMILES</th>\n",
       "      <th>Molecule</th>\n",
       "    </tr>\n",
       "  </thead>\n",
       "  <tbody>\n",
       "    <tr>\n",
       "      <th>0</th>\n",
       "      <td>CWYBNSVSYKQGJB-UHFFFAOYNA-N</td>\n",
       "      <td>71541095</td>\n",
       "      <td>6532</td>\n",
       "      <td>A</td>\n",
       "      <td>6.85387</td>\n",
       "      <td>pubchem</td>\n",
       "      <td>727355</td>\n",
       "      <td>9606</td>\n",
       "      <td>SLC6A4</td>\n",
       "      <td>4061</td>\n",
       "      <td>ClC=1C=C(C2CCCCNC2)C=CC1Cl</td>\n",
       "      <td>&lt;rdkit.Chem.rdchem.Mol object at 0x7441da58fed0&gt;</td>\n",
       "    </tr>\n",
       "    <tr>\n",
       "      <th>1</th>\n",
       "      <td>CTETYYAZBPJBHE-UHFFFAOYNA-N</td>\n",
       "      <td>CHEMBL1289</td>\n",
       "      <td>6532</td>\n",
       "      <td>A</td>\n",
       "      <td>6.37000</td>\n",
       "      <td>chembl20</td>\n",
       "      <td>774720</td>\n",
       "      <td>9606</td>\n",
       "      <td>SLC6A4</td>\n",
       "      <td>4061</td>\n",
       "      <td>C(#CI)COC=1C=C(Cl)C(=CC1Cl)Cl</td>\n",
       "      <td>&lt;rdkit.Chem.rdchem.Mol object at 0x7441c6dcc580&gt;</td>\n",
       "    </tr>\n",
       "    <tr>\n",
       "      <th>2</th>\n",
       "      <td>FQDRMHHCWZAXJM-UHFFFAOYNA-N</td>\n",
       "      <td>125558</td>\n",
       "      <td>25553</td>\n",
       "      <td>A</td>\n",
       "      <td>9.98297</td>\n",
       "      <td>pubchem</td>\n",
       "      <td>205028</td>\n",
       "      <td>10116</td>\n",
       "      <td>SLC6A4</td>\n",
       "      <td>4061</td>\n",
       "      <td>O1C=2C=C3CC(N)CC3=CC2OC1</td>\n",
       "      <td>&lt;rdkit.Chem.rdchem.Mol object at 0x7441c6dcc660&gt;</td>\n",
       "    </tr>\n",
       "    <tr>\n",
       "      <th>3</th>\n",
       "      <td>QRAWNNQNLQPNIZ-UHFFFAOYNA-N</td>\n",
       "      <td>CHEMBL205229</td>\n",
       "      <td>6532</td>\n",
       "      <td>A</td>\n",
       "      <td>7.54000</td>\n",
       "      <td>chembl20</td>\n",
       "      <td>950695</td>\n",
       "      <td>9606</td>\n",
       "      <td>SLC6A4</td>\n",
       "      <td>4061</td>\n",
       "      <td>N1C=C(CCN)C2=C1C(=CC=C2)F</td>\n",
       "      <td>&lt;rdkit.Chem.rdchem.Mol object at 0x7441c6dcc6d0&gt;</td>\n",
       "    </tr>\n",
       "    <tr>\n",
       "      <th>4</th>\n",
       "      <td>HCFHWXDIZOAUTQ-UHFFFAOYNA-N</td>\n",
       "      <td>CHEMBL6376</td>\n",
       "      <td>25553</td>\n",
       "      <td>A</td>\n",
       "      <td>6.11000</td>\n",
       "      <td>chembl20</td>\n",
       "      <td>201505</td>\n",
       "      <td>10116</td>\n",
       "      <td>SLC6A4</td>\n",
       "      <td>4061</td>\n",
       "      <td>C1(=CC=2OCOC2C=C1C)CC(N)C</td>\n",
       "      <td>&lt;rdkit.Chem.rdchem.Mol object at 0x7441c6dcc740&gt;</td>\n",
       "    </tr>\n",
       "  </tbody>\n",
       "</table>\n",
       "</div>"
      ],
      "text/plain": [
       "                Ambit_InchiKey Original_Entry_ID  Entrez_ID Activity_Flag  \\\n",
       "0  CWYBNSVSYKQGJB-UHFFFAOYNA-N          71541095       6532             A   \n",
       "1  CTETYYAZBPJBHE-UHFFFAOYNA-N        CHEMBL1289       6532             A   \n",
       "2  FQDRMHHCWZAXJM-UHFFFAOYNA-N            125558      25553             A   \n",
       "3  QRAWNNQNLQPNIZ-UHFFFAOYNA-N      CHEMBL205229       6532             A   \n",
       "4  HCFHWXDIZOAUTQ-UHFFFAOYNA-N        CHEMBL6376      25553             A   \n",
       "\n",
       "     pXC50        DB  Original_Assay_ID  Tax_ID Gene_Symbol  Ortholog_Group  \\\n",
       "0  6.85387   pubchem             727355    9606      SLC6A4            4061   \n",
       "1  6.37000  chembl20             774720    9606      SLC6A4            4061   \n",
       "2  9.98297   pubchem             205028   10116      SLC6A4            4061   \n",
       "3  7.54000  chembl20             950695    9606      SLC6A4            4061   \n",
       "4  6.11000  chembl20             201505   10116      SLC6A4            4061   \n",
       "\n",
       "                          SMILES  \\\n",
       "0     ClC=1C=C(C2CCCCNC2)C=CC1Cl   \n",
       "1  C(#CI)COC=1C=C(Cl)C(=CC1Cl)Cl   \n",
       "2       O1C=2C=C3CC(N)CC3=CC2OC1   \n",
       "3      N1C=C(CCN)C2=C1C(=CC=C2)F   \n",
       "4      C1(=CC=2OCOC2C=C1C)CC(N)C   \n",
       "\n",
       "                                           Molecule  \n",
       "0  <rdkit.Chem.rdchem.Mol object at 0x7441da58fed0>  \n",
       "1  <rdkit.Chem.rdchem.Mol object at 0x7441c6dcc580>  \n",
       "2  <rdkit.Chem.rdchem.Mol object at 0x7441c6dcc660>  \n",
       "3  <rdkit.Chem.rdchem.Mol object at 0x7441c6dcc6d0>  \n",
       "4  <rdkit.Chem.rdchem.Mol object at 0x7441c6dcc740>  "
      ]
     },
     "execution_count": 36,
     "metadata": {},
     "output_type": "execute_result"
    }
   ],
   "source": [
    "data.head()"
   ]
  },
  {
   "cell_type": "code",
   "execution_count": 37,
   "metadata": {
    "id": "5y17LaiJn4mp"
   },
   "outputs": [
    {
     "name": "stderr",
     "output_type": "stream",
     "text": [
      "[14:12:45] DEPRECATION WARNING: please use MorganGenerator\n"
     ]
    }
   ],
   "source": [
    "def mol2fp(mol):\n",
    "    fp = AllChem.GetHashedMorganFingerprint(mol, 2, nBits=4096)\n",
    "    ar = np.zeros((1,), dtype=np.int8)\n",
    "    DataStructs.ConvertToNumpyArray(fp, ar)\n",
    "    return ar\n",
    "\n",
    "fp = mol2fp(Chem.MolFromSmiles(data.loc[1,\"SMILES\"]))"
   ]
  },
  {
   "cell_type": "code",
   "execution_count": 38,
   "metadata": {
    "colab": {
     "base_uri": "https://localhost:8080/"
    },
    "id": "nUmpKn7dpcDC",
    "outputId": "16145a4e-cb9c-4dc5-c6c6-b65a20e413d4"
   },
   "outputs": [
    {
     "data": {
      "text/plain": [
       "array([0, 0, 0, ..., 0, 0, 0], shape=(4096,), dtype=int8)"
      ]
     },
     "execution_count": 38,
     "metadata": {},
     "output_type": "execute_result"
    }
   ],
   "source": [
    "fp"
   ]
  },
  {
   "cell_type": "code",
   "execution_count": 39,
   "metadata": {
    "colab": {
     "base_uri": "https://localhost:8080/"
    },
    "id": "1F5oSjvNpdWb",
    "outputId": "cdf96f48-5a01-4337-fba8-601424cf535f"
   },
   "outputs": [
    {
     "data": {
      "text/plain": [
       "4096"
      ]
     },
     "execution_count": 39,
     "metadata": {},
     "output_type": "execute_result"
    }
   ],
   "source": [
    "len(fp)"
   ]
  },
  {
   "cell_type": "code",
   "execution_count": 40,
   "metadata": {
    "colab": {
     "base_uri": "https://localhost:8080/",
     "height": 35
    },
    "id": "3WQmhwlwpjTM",
    "outputId": "c1c17419-b87a-4b9a-ce01-9e83450d15c4"
   },
   "outputs": [
    {
     "data": {
      "text/plain": [
       "'C(#CI)COC=1C=C(Cl)C(=CC1Cl)Cl'"
      ]
     },
     "execution_count": 40,
     "metadata": {},
     "output_type": "execute_result"
    }
   ],
   "source": [
    "data.loc[1,\"SMILES\"]"
   ]
  },
  {
   "cell_type": "code",
   "execution_count": 41,
   "metadata": {
    "colab": {
     "base_uri": "https://localhost:8080/"
    },
    "id": "bfBM9Fjupwgw",
    "outputId": "0f0f2dc9-b542-4e52-eb78-615baded1d41"
   },
   "outputs": [
    {
     "data": {
      "text/plain": [
       "array([[0, 0, 0, ..., 0, 0, 0],\n",
       "       [0, 0, 0, ..., 0, 0, 0],\n",
       "       [0, 0, 0, ..., 0, 0, 0],\n",
       "       ...,\n",
       "       [0, 0, 0, ..., 0, 0, 0],\n",
       "       [0, 0, 0, ..., 0, 0, 0],\n",
       "       [0, 0, 0, ..., 0, 0, 0]], shape=(64, 64), dtype=int8)"
      ]
     },
     "execution_count": 41,
     "metadata": {},
     "output_type": "execute_result"
    }
   ],
   "source": [
    "fp.reshape((64,-1))"
   ]
  },
  {
   "cell_type": "code",
   "execution_count": 42,
   "metadata": {
    "colab": {
     "base_uri": "https://localhost:8080/"
    },
    "id": "fwDM2as-qOWT",
    "outputId": "93f03dc2-c581-4874-e996-70e3f66a50cd"
   },
   "outputs": [
    {
     "data": {
      "text/plain": [
       "64.0"
      ]
     },
     "execution_count": 42,
     "metadata": {},
     "output_type": "execute_result"
    }
   ],
   "source": [
    "4096/64"
   ]
  },
  {
   "cell_type": "code",
   "execution_count": 43,
   "metadata": {
    "colab": {
     "base_uri": "https://localhost:8080/",
     "height": 292
    },
    "id": "5V3RNcbkqbFC",
    "outputId": "0f2694a0-a933-4e11-9dd5-e88957a6e986"
   },
   "outputs": [
    {
     "data": {
      "text/plain": [
       "<matplotlib.image.AxesImage at 0x7441c6ceae90>"
      ]
     },
     "execution_count": 43,
     "metadata": {},
     "output_type": "execute_result"
    },
    {
     "data": {
      "image/png": "[encoded data removed]",
      "text/plain": [
       "<Figure size 480x480 with 1 Axes>"
      ]
     },
     "metadata": {},
     "output_type": "display_data"
    }
   ],
   "source": [
    "plt.matshow(fp.reshape((64,-1)) > 0)"
   ]
  },
  {
   "cell_type": "code",
   "execution_count": null,
   "metadata": {
    "id": "5hGsxjWYrJiZ"
   },
   "outputs": [],
   "source": [
    "data[\"FPs\"] = data.Molecule.apply(mol2fp)"
   ]
  },
  {
   "cell_type": "code",
   "execution_count": 45,
   "metadata": {
    "colab": {
     "base_uri": "https://localhost:8080/"
    },
    "id": "FE3EjBWlrgVt",
    "outputId": "34b8cffa-defb-4dea-d259-786445ea6cd9"
   },
   "outputs": [
    {
     "data": {
      "text/plain": [
       "0    [0, 0, 0, 0, 0, 0, 0, 0, 0, 0, 0, 0, 0, 0, 0, ...\n",
       "1    [0, 0, 0, 0, 0, 0, 0, 0, 0, 0, 0, 0, 0, 0, 0, ...\n",
       "2    [0, 0, 0, 0, 0, 0, 0, 0, 0, 0, 0, 0, 0, 0, 0, ...\n",
       "3    [0, 0, 0, 0, 0, 0, 0, 0, 0, 0, 0, 0, 0, 0, 0, ...\n",
       "4    [0, 0, 0, 0, 0, 0, 0, 0, 0, 0, 0, 0, 0, 0, 0, ...\n",
       "Name: FPs, dtype: object"
      ]
     },
     "execution_count": 45,
     "metadata": {},
     "output_type": "execute_result"
    }
   ],
   "source": [
    "data[\"FPs\"].head(5)"
   ]
  },
  {
   "cell_type": "code",
   "execution_count": 46,
   "metadata": {
    "id": "R5D0oAThri_E"
   },
   "outputs": [],
   "source": [
    "X = np.stack(data.FPs.values)"
   ]
  },
  {
   "cell_type": "code",
   "execution_count": 47,
   "metadata": {
    "colab": {
     "base_uri": "https://localhost:8080/"
    },
    "id": "PQG3eJx6sPMz",
    "outputId": "5b4563b3-f49d-4e59-d3c4-ac2ac1a959d1"
   },
   "outputs": [
    {
     "data": {
      "text/plain": [
       "array([array([0, 0, 0, ..., 0, 0, 0], shape=(4096,), dtype=int8),\n",
       "       array([0, 0, 0, ..., 0, 0, 0], shape=(4096,), dtype=int8),\n",
       "       array([0, 0, 0, ..., 0, 0, 0], shape=(4096,), dtype=int8), ...,\n",
       "       array([0, 2, 0, ..., 0, 0, 0], shape=(4096,), dtype=int8),\n",
       "       array([0, 2, 0, ..., 0, 0, 0], shape=(4096,), dtype=int8),\n",
       "       array([0, 2, 0, ..., 0, 0, 0], shape=(4096,), dtype=int8)],\n",
       "      shape=(7228,), dtype=object)"
      ]
     },
     "execution_count": 47,
     "metadata": {},
     "output_type": "execute_result"
    }
   ],
   "source": [
    "data.FPs.values"
   ]
  },
  {
   "cell_type": "code",
   "execution_count": 48,
   "metadata": {
    "colab": {
     "base_uri": "https://localhost:8080/"
    },
    "id": "u5tiSP-rsTYB",
    "outputId": "3055a010-bd71-4029-919e-87ef15ff838e"
   },
   "outputs": [
    {
     "data": {
      "text/plain": [
       "array([[0, 0, 0, ..., 0, 0, 0],\n",
       "       [0, 0, 0, ..., 0, 0, 0],\n",
       "       [0, 0, 0, ..., 0, 0, 0],\n",
       "       ...,\n",
       "       [0, 2, 0, ..., 0, 0, 0],\n",
       "       [0, 2, 0, ..., 0, 0, 0],\n",
       "       [0, 2, 0, ..., 0, 0, 0]], shape=(7228, 4096), dtype=int8)"
      ]
     },
     "execution_count": 48,
     "metadata": {},
     "output_type": "execute_result"
    }
   ],
   "source": [
    "X"
   ]
  },
  {
   "cell_type": "code",
   "execution_count": 49,
   "metadata": {
    "id": "SUMWzjMpsZD_"
   },
   "outputs": [],
   "source": [
    "y = data.pXC50.values.reshape((-1,1))"
   ]
  },
  {
   "cell_type": "code",
   "execution_count": 50,
   "metadata": {
    "colab": {
     "base_uri": "https://localhost:8080/"
    },
    "id": "wyI1nyKvsmTh",
    "outputId": "8a301aac-df1f-4417-c328-4ef458823c87"
   },
   "outputs": [
    {
     "data": {
      "text/plain": [
       "array([[6.85387],\n",
       "       [6.37   ],\n",
       "       [9.98297],\n",
       "       ...,\n",
       "       [6.60206],\n",
       "       [6.8    ],\n",
       "       [6.14   ]], shape=(7228, 1))"
      ]
     },
     "execution_count": 50,
     "metadata": {},
     "output_type": "execute_result"
    }
   ],
   "source": [
    "y"
   ]
  },
  {
   "cell_type": "markdown",
   "metadata": {},
   "source": [
    "## Zacatek prvni casti ukolu\n",
    "- natrenovat model pro predikci aktivity na zaklade struktury pomoci standardnich pristupu strojoveho uceni"
   ]
  },
  {
   "cell_type": "code",
   "execution_count": 53,
   "metadata": {},
   "outputs": [
    {
     "name": "stdout",
     "output_type": "stream",
     "text": [
      "\n",
      "=== Linear Regression ===\n",
      "[00:00] Start training\n",
      "[00:38] Start prediction\n",
      "[00:38] Start evaluation\n",
      "[00:38] Done\n",
      "= Results: =\n",
      "MSE: 2.2463\n",
      "R^2 Score: -0.6437\n",
      "\n",
      "=== Random Forest ===\n",
      "[00:00] Start training\n",
      "[01:59] Start prediction\n",
      "[01:59] Start evaluation\n",
      "[01:59] Done\n",
      "= Results: =\n",
      "MSE: 0.4385\n",
      "R^2 Score: 0.6791\n",
      "\n",
      "=== Gradient Boosting ===\n",
      "[00:00] Start training\n",
      "[01:41] Start prediction\n",
      "[01:41] Start evaluation\n",
      "[01:41] Done\n",
      "= Results: =\n",
      "MSE: 0.7342\n",
      "R^2 Score: 0.4628\n",
      "\n",
      "=== Support Vector Regression ===\n",
      "[00:00] Start training\n",
      "[00:42] Start prediction\n",
      "[00:49] Start evaluation\n",
      "[00:49] Done\n",
      "= Results: =\n",
      "MSE: 0.5251\n",
      "R^2 Score: 0.6158\n"
     ]
    }
   ],
   "source": [
    "import time\n",
    "from sklearn.linear_model import LinearRegression\n",
    "from sklearn.ensemble import RandomForestRegressor, GradientBoostingRegressor\n",
    "from sklearn.svm import SVR\n",
    "from sklearn.metrics import mean_squared_error, r2_score\n",
    "\n",
    "X_train, X_test, y_train, y_test = train_test_split(X, y,  test_size=0.10, random_state=42)\n",
    "# Pro regresni modely neni vhodne pouzivat standard scaler -> zmeni to uplne rozsah vysledku\n",
    "# #Normalizing output using standard scaling\n",
    "# scaler = StandardScaler()\n",
    "# y_train = scaler.fit_transform(y_train)\n",
    "# y_test = scaler.transform(y_test)\n",
    "\n",
    "def log(msg):\n",
    "    elapsed = time.time() - start\n",
    "    minutes = int(elapsed // 60)\n",
    "    seconds = int(elapsed % 60)\n",
    "    print(f\"[{minutes:02d}:{seconds:02d}] {msg}\")\n",
    "\n",
    "models = {\n",
    "    \"Linear Regression\": LinearRegression(),\n",
    "    \"Random Forest\": RandomForestRegressor(random_state=42),\n",
    "    \"Gradient Boosting\": GradientBoostingRegressor(random_state=42),\n",
    "    \"Support Vector Regression\": SVR(),\n",
    "}\n",
    "\n",
    "for name, model in models.items():\n",
    "    print(f\"\\n=== {name} ===\")\n",
    "    start = time.time()\n",
    "\n",
    "    log(\"Start training\")\n",
    "    model.fit(X_train, y_train.ravel())\n",
    "\n",
    "    log(\"Start prediction\")\n",
    "    y_pred = model.predict(X_test)\n",
    "\n",
    "    log(\"Start evaluation\")\n",
    "    mse = mean_squared_error(y_test, y_pred)\n",
    "    r2 = r2_score(y_test, y_pred)\n",
    "\n",
    "    log(\"Done\")\n",
    "    print(\"= Results: =\")\n",
    "    print(f\"MSE: {mse:.4f}\")\n",
    "    print(f\"R^2 Score: {r2:.4f}\")"
   ]
  },
  {
   "cell_type": "markdown",
   "metadata": {},
   "source": [
    "### Diskuze k vysledkum\n",
    "#### Linearni regrese\n",
    "- Princip: hledani co nejlepsi primky v n-rozmernem prostoru, ktere nejlepe predikuje vyslednou hodnotu\n",
    "- [-] Vysoky mean squared error znamena, ze je hodne velka chyba na testovacich datech\n",
    "- [-] Zaporny R squared znamena, ze je predikce modelem horsi, nez kdyby se pouzil prumer hodnot (v grafu jako horizontalni linie)\n",
    "- Model je velmi nevhodny pro tuto ulohu (dokaze predikovat jen linearni vztahy)\n",
    "#### Random forest regressor\n",
    "- Princip: velky pocet rozhodnovacich stromu, vysledna hodnota je prumer ze vsech stromu (na rozdil od stromu pro klasifikaci ma kazdy lsit nejake cislo, ktere je vypocteno jako prumer hodnot, ktere spadly do tohoto listu, jinak se rozhoduje stejne)\n",
    "- [+] Pomerne nizky mean squared error\n",
    "- [+] Pomerne dobry R squared (nejlepsi z porovnavanych modelu)\n",
    "- Nejlepsi vysledky ze vsech modelu, jedinou nevyhodou je delsi trenink (cca 2 minuty)\n",
    "#### Gradient boosting\n",
    "- Princip: Tvori serie stromu, kde kazdy dalsi strom opravuje chyby predchoziho, na rozdil od random forestu tvori stromy postupne\n",
    "- [/] Stredne vysoky mean squared error (vyssi nez u random forestu ale vyrazne nizsi nez u linearni regrese)\n",
    "- [/] R squared alespon v kladnych hodnotach, ale stale mensi nez 0.5\n",
    "- Tento model neni nejhorsi, ale skvele vysledky nema a take se trenuje dlouho\n",
    "#### Support vector regression\n",
    "- Princip: Hleda funkci, ktera se vejde do epsilon zony (coz je nejaka tolerance) a zaroven je co nejhladsi, vyuziva kernely pro prevod dat do vyssiho rozmeru. kde je mozne najit linearni oddeleni a tim umoznuje nelinearni vztahy\n",
    "- [+] Mean squared error je o neco vyssi nez u random forestu, ale stale asi unosna hodnota\n",
    "- [+] R squared je jen o neco nizsi nez u random forestu, taky docela v pohode vysledek\n",
    "- Tento model neni spatny, ale je o neco horsi nez random forest, vyhoda muze byt, ze se trenuje velmi rychle\n",
    "\n",
    "### Nejlepsi: Random forest regressor"
   ]
  },
  {
   "cell_type": "code",
   "execution_count": 54,
   "metadata": {
    "id": "PnCENDk7snjC"
   },
   "outputs": [],
   "source": [
    "X_train, X_test, y_train, y_test = train_test_split(X, y,  test_size=0.10, random_state=42)\n",
    "X_train, X_validation, y_train, y_validation = train_test_split(X_train, y_train,  test_size=0.05, random_state=42)\n",
    "#Normalizing output using standard scaling\n",
    "scaler = StandardScaler()\n",
    "y_train = scaler.fit_transform(y_train)\n",
    "y_test = scaler.transform(y_test)\n",
    "y_validation = scaler.transform(y_validation)"
   ]
  },
  {
   "cell_type": "code",
   "execution_count": null,
   "metadata": {
    "colab": {
     "base_uri": "https://localhost:8080/"
    },
    "id": "ucmxfmOguSVW",
    "outputId": "7a5ef95a-1971-464b-ee25-a2ffa22dbb3f"
   },
   "outputs": [],
   "source": [
    "y_validation"
   ]
  },
  {
   "cell_type": "code",
   "execution_count": 22,
   "metadata": {
    "colab": {
     "base_uri": "https://localhost:8080/",
     "height": 267
    },
    "id": "CR5g5giIuvOb",
    "outputId": "85fffbd7-32bf-4451-8647-62323bb0c567"
   },
   "outputs": [
    {
     "data": {
      "image/png": "[encoded data removed]",
      "text/plain": [
       "<Figure size 640x480 with 1 Axes>"
      ]
     },
     "metadata": {},
     "output_type": "display_data"
    }
   ],
   "source": [
    "plt.hist(y_train)\n",
    "plt.show()"
   ]
  },
  {
   "cell_type": "code",
   "execution_count": 23,
   "metadata": {
    "colab": {
     "base_uri": "https://localhost:8080/"
    },
    "id": "JO_1D1c1uVBe",
    "outputId": "7de1933d-b0a1-444d-f7dd-fcff9a67d907"
   },
   "outputs": [
    {
     "data": {
      "text/plain": [
       "(6179, 4096)"
      ]
     },
     "execution_count": 23,
     "metadata": {},
     "output_type": "execute_result"
    }
   ],
   "source": [
    "X_train.shape"
   ]
  },
  {
   "cell_type": "code",
   "execution_count": 24,
   "metadata": {
    "colab": {
     "base_uri": "https://localhost:8080/"
    },
    "id": "JxP0GBOXvB6b",
    "outputId": "1b081e44-a2ce-4e49-f4ce-df87d227a0ad"
   },
   "outputs": [
    {
     "data": {
      "text/plain": [
       "6545.0"
      ]
     },
     "execution_count": 24,
     "metadata": {},
     "output_type": "execute_result"
    }
   ],
   "source": [
    "7700*0.85"
   ]
  },
  {
   "cell_type": "code",
   "execution_count": 25,
   "metadata": {
    "colab": {
     "base_uri": "https://localhost:8080/"
    },
    "id": "w3Z3Y9uPvS7Y",
    "outputId": "fafee25e-c80b-43cb-fbb2-113d7b17ee53"
   },
   "outputs": [
    {
     "data": {
      "text/plain": [
       "(6179, 222)"
      ]
     },
     "execution_count": 25,
     "metadata": {},
     "output_type": "execute_result"
    }
   ],
   "source": [
    "feature_select = VarianceThreshold(threshold=0.05)\n",
    "X_train = feature_select.fit_transform(X_train)\n",
    "X_validation = feature_select.transform(X_validation)\n",
    "X_test = feature_select.transform(X_test)\n",
    "X_train.shape"
   ]
  },
  {
   "cell_type": "code",
   "execution_count": 26,
   "metadata": {
    "colab": {
     "base_uri": "https://localhost:8080/"
    },
    "id": "9nCxDw9kwEdP",
    "outputId": "e1d40343-17d6-4944-a58d-0ebb8965f3a9"
   },
   "outputs": [
    {
     "name": "stdout",
     "output_type": "stream",
     "text": [
      "cpu\n"
     ]
    },
    {
     "data": {
      "text/plain": [
       "tensor([[0., 0., 1.,  ..., 0., 0., 0.],\n",
       "        [0., 0., 0.,  ..., 0., 0., 0.],\n",
       "        [0., 0., 0.,  ..., 1., 0., 0.],\n",
       "        ...,\n",
       "        [0., 0., 0.,  ..., 0., 0., 0.],\n",
       "        [0., 0., 0.,  ..., 0., 0., 0.],\n",
       "        [0., 0., 0.,  ..., 0., 1., 0.]])"
      ]
     },
     "execution_count": 26,
     "metadata": {},
     "output_type": "execute_result"
    }
   ],
   "source": [
    "# Let's get those arrays transfered to the GPU memory as tensors\n",
    "device = torch.device(\"cuda:0\" if torch.cuda.is_available() else \"cpu\")\n",
    "print(device)\n",
    "# If you don't have a GPU, buy a graphics card. I have for a long time used a 1060 GTX, which is not that expensive anymore.\n",
    "X_train = torch.tensor(X_train, device=device).float()\n",
    "X_test = torch.tensor(X_test, device=device).float()\n",
    "X_validation = torch.tensor(X_validation, device=device).float()\n",
    "y_train = torch.tensor(y_train, device=device).float()\n",
    "y_test = torch.tensor(y_test, device=device).float()\n",
    "y_validation = torch.tensor(y_validation, device=device).float()\n",
    "X_train"
   ]
  },
  {
   "cell_type": "code",
   "execution_count": 27,
   "metadata": {
    "id": "-yEwGG9cw3Mu"
   },
   "outputs": [],
   "source": [
    "device = torch.device(\"cuda:0\" if torch.cuda.is_available() else \"cpu\")"
   ]
  },
  {
   "cell_type": "code",
   "execution_count": 28,
   "metadata": {
    "colab": {
     "base_uri": "https://localhost:8080/"
    },
    "id": "T3LMYemfw_w3",
    "outputId": "7729dc19-88b2-4a08-9330-ea539e4fa3c9"
   },
   "outputs": [
    {
     "data": {
      "text/plain": [
       "device(type='cpu')"
      ]
     },
     "execution_count": 28,
     "metadata": {},
     "output_type": "execute_result"
    }
   ],
   "source": [
    "device"
   ]
  },
  {
   "cell_type": "code",
   "execution_count": 29,
   "metadata": {
    "id": "2--1IvgqxAiX"
   },
   "outputs": [],
   "source": [
    "from torch.utils.data import TensorDataset\n",
    "train_dataset = TensorDataset(X_train, y_train)\n",
    "validation_dataset = TensorDataset(X_validation, y_validation)"
   ]
  },
  {
   "cell_type": "code",
   "execution_count": 30,
   "metadata": {
    "colab": {
     "base_uri": "https://localhost:8080/"
    },
    "id": "fNIg1m5IyAuG",
    "outputId": "d23d37b6-31f6-4c1d-8591-1cebb370feec"
   },
   "outputs": [
    {
     "data": {
      "text/plain": [
       "<torch.utils.data.dataset.TensorDataset at 0x7646cf1de510>"
      ]
     },
     "execution_count": 30,
     "metadata": {},
     "output_type": "execute_result"
    }
   ],
   "source": [
    "train_dataset"
   ]
  },
  {
   "cell_type": "code",
   "execution_count": 31,
   "metadata": {
    "id": "rgXY2SzAyCSf"
   },
   "outputs": [],
   "source": [
    "train_loader = torch.utils.data.DataLoader(dataset=train_dataset,\n",
    "                                          batch_size=256,\n",
    "                                          shuffle=True)\n",
    "validation_loader = torch.utils.data.DataLoader(dataset=validation_dataset,\n",
    "                                          batch_size=256,\n",
    "                                          shuffle=False)"
   ]
  },
  {
   "cell_type": "code",
   "execution_count": 32,
   "metadata": {
    "id": "LIbg4OB-lOX3"
   },
   "outputs": [],
   "source": [
    "class Net(nn.Module):\n",
    "    def __init__(self, input_size, hidden_size, dropout_rate, out_size):\n",
    "        super(Net, self).__init__()\n",
    "        # Three layers and a output layer\n",
    "        self.fc1 = nn.Linear(input_size, hidden_size)  # 1st Full-Connected Layer\n",
    "        self.fc15 = nn.Linear(hidden_size, hidden_size)\n",
    "        self.fc2 = nn.Linear(hidden_size, hidden_size)\n",
    "        self.fc3 = nn.Linear(hidden_size, hidden_size)\n",
    "        self.fc_out = nn.Linear(hidden_size, out_size) # Output layer\n",
    "        #Layer normalization for faster training\n",
    "        self.ln1 = nn.LayerNorm(hidden_size)\n",
    "        self.ln15 = nn.LayerNorm(hidden_size)\n",
    "        self.ln2 = nn.LayerNorm(hidden_size)\n",
    "        self.ln3 = nn.LayerNorm(hidden_size)\n",
    "        #LeakyReLU will be used as the activation function\n",
    "        self.activation = nn.LeakyReLU()\n",
    "        #Dropout for regularization\n",
    "        self.dropout = nn.Dropout(dropout_rate)\n",
    "\n",
    "    def forward(self, x):# Forward pass: stacking each layer together\n",
    "        # Fully connected =&amp;gt; Layer Norm =&amp;gt; LeakyReLU =&amp;gt; Dropout times 3\n",
    "        out = self.fc1(x)\n",
    "        out = self.ln1(out)\n",
    "        out = self.activation(out)\n",
    "        out = self.dropout(out)\n",
    "        out = self.fc15(out)\n",
    "        out = self.ln15(out)\n",
    "        out = self.activation(out)\n",
    "        out = self.dropout(out)\n",
    "        out = self.fc2(out)\n",
    "        out = self.ln2(out)\n",
    "        out = self.activation(out)\n",
    "        out = self.dropout(out)\n",
    "        out = self.fc3(out)\n",
    "        out = self.ln3(out)\n",
    "        out = self.activation(out)\n",
    "        out = self.dropout(out)\n",
    "        #Final output layer\n",
    "        out = self.fc_out(out)\n",
    "        return out\n"
   ]
  },
  {
   "cell_type": "code",
   "execution_count": 33,
   "metadata": {
    "id": "IJjLbyu_lcAJ"
   },
   "outputs": [],
   "source": [
    "#Defining the hyperparameters\n",
    "input_size = X_train.size()[-1]     # The input size should fit our fingerprint size\n",
    "hidden_size = 1024   # The size of the hidden layer\n",
    "dropout_rate = 0.80    # The dropout rate\n",
    "output_size = 1        # This is just a single task, so this will be one\n",
    "learning_rate = 0.001  # The learning rate for the optimizer\n",
    "model = Net(input_size, hidden_size, dropout_rate, output_size)"
   ]
  },
  {
   "cell_type": "code",
   "execution_count": 34,
   "metadata": {
    "id": "4s6ebquNnrdY"
   },
   "outputs": [],
   "source": [
    "criterion = nn.MSELoss()\n",
    "optimizer = torch.optim.Adam(model.parameters(), lr=learning_rate)"
   ]
  },
  {
   "cell_type": "code",
   "execution_count": 35,
   "metadata": {
    "colab": {
     "base_uri": "https://localhost:8080/"
    },
    "id": "DccYjMCKoHQt",
    "outputId": "1a9852ab-8fce-42c0-c943-5d626e94ef14"
   },
   "outputs": [
    {
     "name": "stdout",
     "output_type": "stream",
     "text": [
      "Epoch:   0 Training loss: 1.31 Validation loss: 1.08\n",
      "Epoch:  10 Training loss: 0.59 Validation loss: 0.67\n",
      "Epoch:  20 Training loss: 0.47 Validation loss: 0.57\n"
     ]
    }
   ],
   "source": [
    "model.train() #Ensure the network is in \"train\" mode with dropouts active\n",
    "epochs = 30\n",
    "for e in range(epochs):\n",
    "    running_loss = 0\n",
    "    for fps, labels in train_loader:\n",
    "        # Training pass\n",
    "        optimizer.zero_grad() # Initialize the gradients, which will be recorded during the forward pa\n",
    "\n",
    "        output = model(fps) #Forward pass of the mini-batch\n",
    "        loss = criterion(output, labels) #Computing the loss\n",
    "        loss.backward() # calculate the backward pass\n",
    "        optimizer.step() # Optimize the weights\n",
    "\n",
    "        running_loss += loss.item()\n",
    "    else:\n",
    "        if e%10 == 0:\n",
    "            validation_loss = torch.mean(( y_validation - model(X_validation) )**2).item()\n",
    "            print(\"Epoch: %3i Training loss: %0.2F Validation loss: %0.2F\"%(e,(running_loss/len(train_loader)), validation_loss))"
   ]
  },
  {
   "cell_type": "code",
   "execution_count": 36,
   "metadata": {
    "id": "1NsUBxKQpEEm"
   },
   "outputs": [],
   "source": [
    "model.eval() #Switch to evaluation mode, where dropout is switched off\n",
    "y_pred_train = model(X_train)\n",
    "y_pred_validation = model(X_validation)\n",
    "y_pred_test = model(X_test)"
   ]
  },
  {
   "cell_type": "code",
   "execution_count": 37,
   "metadata": {
    "colab": {
     "base_uri": "https://localhost:8080/"
    },
    "id": "5O14pigwqWjm",
    "outputId": "48dc74f6-dfb1-4b3d-e507-42a9b1e97fac"
   },
   "outputs": [
    {
     "data": {
      "text/plain": [
       "0.31701982021331787"
      ]
     },
     "execution_count": 37,
     "metadata": {},
     "output_type": "execute_result"
    }
   ],
   "source": [
    "torch.mean(( y_train - y_pred_train )**2).item()"
   ]
  },
  {
   "cell_type": "code",
   "execution_count": 38,
   "metadata": {
    "colab": {
     "base_uri": "https://localhost:8080/"
    },
    "id": "5gq7YkM8qcby",
    "outputId": "db9cb095-2221-4deb-fb80-3b330e7980ba"
   },
   "outputs": [
    {
     "data": {
      "text/plain": [
       "0.46807345747947693"
      ]
     },
     "execution_count": 38,
     "metadata": {},
     "output_type": "execute_result"
    }
   ],
   "source": [
    "torch.mean(( y_validation - y_pred_validation )**2).item()"
   ]
  },
  {
   "cell_type": "code",
   "execution_count": 39,
   "metadata": {
    "colab": {
     "base_uri": "https://localhost:8080/"
    },
    "id": "9FNwYrZRqfro",
    "outputId": "6a8274a1-11b3-47c9-d1b8-9b554e064565"
   },
   "outputs": [
    {
     "data": {
      "text/plain": [
       "0.4375949800014496"
      ]
     },
     "execution_count": 39,
     "metadata": {},
     "output_type": "execute_result"
    }
   ],
   "source": [
    "torch.mean(( y_test - y_pred_test )**2).item()"
   ]
  },
  {
   "cell_type": "code",
   "execution_count": 40,
   "metadata": {
    "id": "_C23049kqjBf"
   },
   "outputs": [],
   "source": [
    "def flatten(tensor):\n",
    "    return tensor.cpu().detach().numpy().flatten()"
   ]
  },
  {
   "cell_type": "code",
   "execution_count": 41,
   "metadata": {
    "colab": {
     "base_uri": "https://localhost:8080/",
     "height": 283
    },
    "id": "O8hJGm6bq5HI",
    "outputId": "f6d34cf6-c1d6-499b-c125-58229b96173d"
   },
   "outputs": [
    {
     "data": {
      "text/plain": [
       "[<matplotlib.lines.Line2D at 0x7646dc061d10>]"
      ]
     },
     "execution_count": 41,
     "metadata": {},
     "output_type": "execute_result"
    },
    {
     "data": {
      "image/png": "[encoded data removed]",
      "text/plain": [
       "<Figure size 640x480 with 1 Axes>"
      ]
     },
     "metadata": {},
     "output_type": "display_data"
    }
   ],
   "source": [
    "plt.scatter(flatten(y_pred_test), flatten(y_test), alpha=0.5, label=\"Test\")\n",
    "plt.scatter(flatten(y_pred_train), flatten(y_train), alpha=0.1, label=\"Train\")\n",
    "plt.legend()\n",
    "plt.plot([-1.5, 1.5], [-1.5,1.5], c=\"b\")"
   ]
  },
  {
   "cell_type": "code",
   "execution_count": 42,
   "metadata": {
    "id": "qId4itjurIIL"
   },
   "outputs": [],
   "source": [
    "def predict_smiles(smiles):\n",
    "    fp = mol2fp(Chem.MolFromSmiles(smiles)).reshape(1,-1)\n",
    "    fp_filtered = feature_select.transform(fp)\n",
    "    fp_tensor = torch.tensor(fp_filtered, device=device).float()\n",
    "    prediction = model(fp_tensor)\n",
    "    #return prediction.cpu().detach().numpy()\n",
    "    pXC50 = scaler.inverse_transform(prediction.cpu().detach().numpy())\n",
    "    return pXC50[0][0]"
   ]
  },
  {
   "cell_type": "code",
   "execution_count": 43,
   "metadata": {
    "colab": {
     "base_uri": "https://localhost:8080/"
    },
    "id": "Rzy9Ekf8r-Oi",
    "outputId": "2f8a1d2d-3c96-4323-f20c-f118638b0b97"
   },
   "outputs": [
    {
     "name": "stderr",
     "output_type": "stream",
     "text": [
      "[21:55:27] DEPRECATION WARNING: please use MorganGenerator\n"
     ]
    },
    {
     "data": {
      "text/plain": [
       "np.float32(8.3494215)"
      ]
     },
     "execution_count": 43,
     "metadata": {},
     "output_type": "execute_result"
    }
   ],
   "source": [
    "predict_smiles('Cc1ccc2c(N3CCNCC3)cc(F)cc2n1')"
   ]
  },
  {
   "cell_type": "code",
   "execution_count": 44,
   "metadata": {
    "colab": {
     "base_uri": "https://localhost:8080/"
    },
    "id": "bA0rdhG5sHHE",
    "outputId": "3cda5867-c1e2-411b-996a-6834651748e4"
   },
   "outputs": [
    {
     "data": {
      "text/plain": [
       "Net(\n",
       "  (fc1): Linear(in_features=222, out_features=1024, bias=True)\n",
       "  (fc15): Linear(in_features=1024, out_features=1024, bias=True)\n",
       "  (fc2): Linear(in_features=1024, out_features=1024, bias=True)\n",
       "  (fc3): Linear(in_features=1024, out_features=1024, bias=True)\n",
       "  (fc_out): Linear(in_features=1024, out_features=1, bias=True)\n",
       "  (ln1): LayerNorm((1024,), eps=1e-05, elementwise_affine=True)\n",
       "  (ln15): LayerNorm((1024,), eps=1e-05, elementwise_affine=True)\n",
       "  (ln2): LayerNorm((1024,), eps=1e-05, elementwise_affine=True)\n",
       "  (ln3): LayerNorm((1024,), eps=1e-05, elementwise_affine=True)\n",
       "  (activation): LeakyReLU(negative_slope=0.01)\n",
       "  (dropout): Dropout(p=0.8, inplace=False)\n",
       ")"
      ]
     },
     "execution_count": 44,
     "metadata": {},
     "output_type": "execute_result"
    }
   ],
   "source": [
    "model"
   ]
  },
  {
   "cell_type": "code",
   "execution_count": null,
   "metadata": {
    "id": "NpcvY6uvsHfY"
   },
   "outputs": [],
   "source": []
  }
 ],
 "metadata": {
  "colab": {
   "provenance": []
  },
  "kernelspec": {
   "display_name": "Python 3 (ipykernel)",
   "language": "python",
   "name": "python3"
  },
  "language_info": {
   "codemirror_mode": {
    "name": "ipython",
    "version": 3
   },
   "file_extension": ".py",
   "mimetype": "text/x-python",
   "name": "python",
   "nbconvert_exporter": "python",
   "pygments_lexer": "ipython3",
   "version": "3.13.1"
  }
 },
 "nbformat": 4,
 "nbformat_minor": 4
}
