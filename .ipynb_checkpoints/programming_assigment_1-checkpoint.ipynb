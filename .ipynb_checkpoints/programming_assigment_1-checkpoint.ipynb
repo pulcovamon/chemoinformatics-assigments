{
 "cells": [
  {
   "cell_type": "markdown",
   "metadata": {},
   "source": [
    "# Programming Assigment 1\n",
    "### Intro into RDKit and similarity search"
   ]
  },
  {
   "cell_type": "markdown",
   "metadata": {},
   "source": [
    "## 1. load dataset in a Jupyter notebook and extract relevant column to be processed"
   ]
  },
  {
   "cell_type": "code",
   "execution_count": 4,
   "metadata": {
    "vscode": {
     "languageId": "plaintext"
    }
   },
   "outputs": [
    {
     "data": {
      "text/html": [
       "<div>\n",
       "<style scoped>\n",
       "    .dataframe tbody tr th:only-of-type {\n",
       "        vertical-align: middle;\n",
       "    }\n",
       "\n",
       "    .dataframe tbody tr th {\n",
       "        vertical-align: top;\n",
       "    }\n",
       "\n",
       "    .dataframe thead th {\n",
       "        text-align: right;\n",
       "    }\n",
       "</style>\n",
       "<table border=\"1\" class=\"dataframe\">\n",
       "  <thead>\n",
       "    <tr style=\"text-align: right;\">\n",
       "      <th></th>\n",
       "      <th>name</th>\n",
       "      <th>smiles</th>\n",
       "      <th>pubmed</th>\n",
       "    </tr>\n",
       "  </thead>\n",
       "  <tbody>\n",
       "    <tr>\n",
       "      <th>0</th>\n",
       "      <td>Ethyl 2-amino-3-(3,4-dihydroxyphenyl)propanoate</td>\n",
       "      <td>CCOC(=O)C(CC1=CC(=C(C=C1)O)O)N</td>\n",
       "      <td>https://pubchem.ncbi.nlm.nih.gov/compound/1179...</td>\n",
       "    </tr>\n",
       "    <tr>\n",
       "      <th>1</th>\n",
       "      <td>(S)-Methyl 2-amino-3-(3,4-dihydroxyphenyl)prop...</td>\n",
       "      <td>COC(=O)C(CC1=CC(=C(C=C1)O)O)N.Cl</td>\n",
       "      <td>https://pubchem.ncbi.nlm.nih.gov/compound/1013...</td>\n",
       "    </tr>\n",
       "    <tr>\n",
       "      <th>2</th>\n",
       "      <td>Etilevodopa</td>\n",
       "      <td>CCOC(=O)C(CC1=CC(=C(C=C1)O)O)N</td>\n",
       "      <td>https://pubchem.ncbi.nlm.nih.gov/compound/170345</td>\n",
       "    </tr>\n",
       "    <tr>\n",
       "      <th>3</th>\n",
       "      <td>Foslevodopa</td>\n",
       "      <td>C1=CC(=C(C=C1CC(C(=O)O)N)O)OP(=O)(O)O</td>\n",
       "      <td>https://pubchem.ncbi.nlm.nih.gov/compound/127766</td>\n",
       "    </tr>\n",
       "    <tr>\n",
       "      <th>4</th>\n",
       "      <td>Melevodopa</td>\n",
       "      <td>COC(=O)C(CC1=CC(=C(C=C1)O)O)N</td>\n",
       "      <td>https://pubchem.ncbi.nlm.nih.gov/compound/23497</td>\n",
       "    </tr>\n",
       "  </tbody>\n",
       "</table>\n",
       "</div>"
      ],
      "text/plain": [
       "                                                name  \\\n",
       "0    Ethyl 2-amino-3-(3,4-dihydroxyphenyl)propanoate   \n",
       "1  (S)-Methyl 2-amino-3-(3,4-dihydroxyphenyl)prop...   \n",
       "2                                        Etilevodopa   \n",
       "3                                        Foslevodopa   \n",
       "4                                         Melevodopa   \n",
       "\n",
       "                                  smiles  \\\n",
       "0         CCOC(=O)C(CC1=CC(=C(C=C1)O)O)N   \n",
       "1       COC(=O)C(CC1=CC(=C(C=C1)O)O)N.Cl   \n",
       "2         CCOC(=O)C(CC1=CC(=C(C=C1)O)O)N   \n",
       "3  C1=CC(=C(C=C1CC(C(=O)O)N)O)OP(=O)(O)O   \n",
       "4          COC(=O)C(CC1=CC(=C(C=C1)O)O)N   \n",
       "\n",
       "                                              pubmed  \n",
       "0  https://pubchem.ncbi.nlm.nih.gov/compound/1179...  \n",
       "1  https://pubchem.ncbi.nlm.nih.gov/compound/1013...  \n",
       "2   https://pubchem.ncbi.nlm.nih.gov/compound/170345  \n",
       "3   https://pubchem.ncbi.nlm.nih.gov/compound/127766  \n",
       "4    https://pubchem.ncbi.nlm.nih.gov/compound/23497  "
      ]
     },
     "execution_count": 4,
     "metadata": {},
     "output_type": "execute_result"
    }
   ],
   "source": [
    "import pandas as pd\n",
    "\n",
    "df = pd.read_csv(\"compounds.csv\", sep=\";\")\n",
    "df.head()"
   ]
  },
  {
   "cell_type": "code",
   "execution_count": 5,
   "metadata": {},
   "outputs": [
    {
     "data": {
      "text/plain": [
       "0           CCOC(=O)C(CC1=CC(=C(C=C1)O)O)N\n",
       "1         COC(=O)C(CC1=CC(=C(C=C1)O)O)N.Cl\n",
       "2           CCOC(=O)C(CC1=CC(=C(C=C1)O)O)N\n",
       "3    C1=CC(=C(C=C1CC(C(=O)O)N)O)OP(=O)(O)O\n",
       "4            COC(=O)C(CC1=CC(=C(C=C1)O)O)N\n",
       "5        C1=CC(=C(C=C1CC(C(=O)O)N)O)O.[Na]\n",
       "6            COC1=C(C=C(C=C1)CC(C(=O)O)N)O\n",
       "7            COC1=C(C=CC(=C1)CC(C(=O)O)N)O\n",
       "Name: smiles, dtype: object"
      ]
     },
     "execution_count": 5,
     "metadata": {},
     "output_type": "execute_result"
    }
   ],
   "source": [
    "smiles_column = df[\"smiles\"]\n",
    "smiles_column"
   ]
  },
  {
   "cell_type": "markdown",
   "metadata": {},
   "source": [
    "## 2. compute molecular fingerprints for each compound"
   ]
  },
  {
   "cell_type": "code",
   "execution_count": null,
   "metadata": {},
   "outputs": [],
   "source": []
  }
 ],
 "metadata": {
  "kernelspec": {
   "display_name": "Python 3 (ipykernel)",
   "language": "python",
   "name": "python3"
  },
  "language_info": {
   "codemirror_mode": {
    "name": "ipython",
    "version": 3
   },
   "file_extension": ".py",
   "mimetype": "text/x-python",
   "name": "python",
   "nbconvert_exporter": "python",
   "pygments_lexer": "ipython3",
   "version": "3.13.1"
  }
 },
 "nbformat": 4,
 "nbformat_minor": 4
}
